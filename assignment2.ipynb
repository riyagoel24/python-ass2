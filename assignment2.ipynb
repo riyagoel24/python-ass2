{
 "cells": [
  {
   "cell_type": "markdown",
   "metadata": {},
   "source": [
    "# *ASSIGNMENT : 2*"
   ]
  },
  {
   "cell_type": "markdown",
   "metadata": {},
   "source": [
    "#### *Ques:1 find the length of a string using loops(not len())*"
   ]
  },
  {
   "cell_type": "code",
   "execution_count": 2,
   "metadata": {},
   "outputs": [
    {
     "name": "stdout",
     "output_type": "stream",
     "text": [
      "enter the string:riya\n",
      "The length of string is:: 4\n"
     ]
    }
   ],
   "source": [
    "a=input(\"enter the string:\")\n",
    "count=0\n",
    "for i in a:\n",
    "    count+=1\n",
    "print(\"The length of string is::\",count)    \n",
    "    "
   ]
  },
  {
   "cell_type": "markdown",
   "metadata": {},
   "source": [
    "#### *Ques:2 wap that accepts 2 strings and output the concatenation of them*"
   ]
  },
  {
   "cell_type": "code",
   "execution_count": 4,
   "metadata": {},
   "outputs": [
    {
     "name": "stdout",
     "output_type": "stream",
     "text": [
      "enter the first string::hello\n",
      "enter the second string::world\n"
     ]
    }
   ],
   "source": [
    "a=input(\"enter the first string::\")\n",
    "b=input(\"enter the second string::\")\n"
   ]
  },
  {
   "cell_type": "code",
   "execution_count": 7,
   "metadata": {},
   "outputs": [
    {
     "name": "stdout",
     "output_type": "stream",
     "text": [
      "concatenated string is: helloworld\n"
     ]
    }
   ],
   "source": [
    "print(\"concatenated string is:\",a+b)"
   ]
  },
  {
   "cell_type": "markdown",
   "metadata": {},
   "source": [
    "#### *Ques:3 wap that accepts a sentence(string) and calculate no. of letters and digits*"
   ]
  },
  {
   "cell_type": "code",
   "execution_count": 21,
   "metadata": {},
   "outputs": [
    {
     "name": "stdout",
     "output_type": "stream",
     "text": [
      "enter a string:riya 1234 goel\n",
      "no. of letters are:: 8\n",
      "no. of digits are:: 4\n"
     ]
    }
   ],
   "source": [
    "a=input(\"enter a string:\")\n",
    "letter=0\n",
    "digit=0\n",
    "count=0\n",
    "for i in a:\n",
    "    if(i.isdigit()):\n",
    "        digit+=1\n",
    "    elif(i.isspace()):\n",
    "        count+=1\n",
    "    else:\n",
    "        letter+=1\n",
    "print(\"no. of letters are::\",letter)\n",
    "print(\"no. of digits are::\",digit)\n",
    "    "
   ]
  },
  {
   "cell_type": "markdown",
   "metadata": {},
   "source": [
    "##### *Ques:4 wap that accepts a string and outputs the string with all capital letters*"
   ]
  },
  {
   "cell_type": "code",
   "execution_count": 20,
   "metadata": {},
   "outputs": [
    {
     "name": "stdout",
     "output_type": "stream",
     "text": [
      "enter a string:riya goel\n",
      "output string:: riya goel ==> RIYA GOEL\n"
     ]
    }
   ],
   "source": [
    "a=input(\"enter a string:\")\n",
    "print(\"output string::\",a,\"==>\",a.upper())\n"
   ]
  },
  {
   "cell_type": "markdown",
   "metadata": {},
   "source": [
    "##### *Ques:5 wap that accepts a sentence and calculate no. of upper case letter and lower case letters*"
   ]
  },
  {
   "cell_type": "code",
   "execution_count": 22,
   "metadata": {},
   "outputs": [
    {
     "name": "stdout",
     "output_type": "stream",
     "text": [
      "enter a string::HellO WoRlD\n",
      " number of upper case letters are: 5\n",
      " number of lower case letters are: 5\n"
     ]
    }
   ],
   "source": [
    "a=input(\"enter a string::\")\n",
    "upper_letter=0\n",
    "lower_letter=0\n",
    "for i in a:\n",
    "    if(i.isupper()):\n",
    "        upper_letter+=1\n",
    "    elif(i.islower()):\n",
    "        lower_letter+=1\n",
    "    else:\n",
    "        pass\n",
    "print(\" number of upper case letters are:\",upper_letter) \n",
    "print(\" number of lower case letters are:\",lower_letter) \n",
    "\n",
    "        \n",
    "        "
   ]
  },
  {
   "cell_type": "markdown",
   "metadata": {},
   "source": [
    "##### *Ques:6 swap cases in a string using loops*"
   ]
  },
  {
   "cell_type": "code",
   "execution_count": 7,
   "metadata": {},
   "outputs": [
    {
     "name": "stdout",
     "output_type": "stream",
     "text": [
      "enter a string:RIYA goel\n",
      "output string is:\n",
      "riya GOEL\n"
     ]
    }
   ],
   "source": [
    "a=input(\"enter a string:\")\n",
    "print(\"output string is:\")\n",
    "for i in a:\n",
    "    if(a.isupper()):\n",
    "        print(a.swapcase())\n",
    "        break\n",
    "    elif(a.islower()):\n",
    "        print(a.swapcase())\n",
    "        break\n",
    "    else:\n",
    "        print(a.swapcase())\n",
    "        break"
   ]
  },
  {
   "cell_type": "markdown",
   "metadata": {},
   "source": [
    "##### *Ques:7 wap that counts the occurence of a character in a string.*"
   ]
  },
  {
   "cell_type": "code",
   "execution_count": 8,
   "metadata": {},
   "outputs": [
    {
     "name": "stdout",
     "output_type": "stream",
     "text": [
      "enter th string:this is a string test\n",
      "enter the character that uh want to count::t\n",
      "no. of times t occured= 4\n"
     ]
    }
   ],
   "source": [
    "a=input(\"enter th string:\")\n",
    "count=0\n",
    "ch=input(\"enter the character that uh want to count::\")\n",
    "val=a.count(ch)\n",
    "print(\"no. of times\",ch,\"occured=\",val)    \n",
    "    \n"
   ]
  },
  {
   "cell_type": "markdown",
   "metadata": {},
   "source": [
    "##### *Ques:8 wap to find if a given string is palindrome or not.*"
   ]
  },
  {
   "cell_type": "code",
   "execution_count": 14,
   "metadata": {},
   "outputs": [
    {
     "name": "stdout",
     "output_type": "stream",
     "text": [
      "enter a string:wow\n",
      "reversed string is: wow\n",
      "given string is pallindrome\n"
     ]
    }
   ],
   "source": [
    "b=input(\"enter a string:\")\n",
    "print(\"reversed string is:\",b[::-1])\n",
    "\n",
    "if(b[::-1]==b):\n",
    "    print(\"given string is pallindrome\")\n",
    "else:\n",
    "    print(\"not pallindrome\")\n"
   ]
  },
  {
   "cell_type": "markdown",
   "metadata": {},
   "source": [
    "##### *Ques :9 wap to that accepts a string s ,an index no. n and a character c.and outputs the string replaced with the character at the index no. n*"
   ]
  },
  {
   "cell_type": "code",
   "execution_count": 5,
   "metadata": {},
   "outputs": [
    {
     "name": "stdout",
     "output_type": "stream",
     "text": [
      "enter a string:hello\n",
      "enter index no.:0\n",
      "enter the character:j\n",
      " jello\n"
     ]
    }
   ],
   "source": [
    "S=list(input(\"enter a string:\"))\n",
    "n=int(input(\"enter index no.:\"))\n",
    "c=input(\"enter the character:\")\n",
    "if(n<len(S)):\n",
    "    l=list(S)\n",
    "    l.pop(n)\n",
    "    l.insert(n,c)\n",
    "    S=\" \"\n",
    "    for i in l:\n",
    "        S+=i\n",
    "    print(S)\n",
    "else:\n",
    "    print(\"error!\")"
   ]
  },
  {
   "cell_type": "markdown",
   "metadata": {},
   "source": [
    "##### *ques:10 output the integer no.indicating the total no. of occurences of a substring in the original string*"
   ]
  },
  {
   "cell_type": "code",
   "execution_count": 3,
   "metadata": {},
   "outputs": [
    {
     "name": "stdout",
     "output_type": "stream",
     "text": [
      "enter the string:hello world\n",
      "enter the substring:world\n",
      "no. of times substring occured: 1\n"
     ]
    }
   ],
   "source": [
    "a=input(\"enter the string:\")\n",
    "b=input(\"enter the substring:\")\n",
    "print(\"no. of times substring occured:\",end=\" \")\n",
    "print(a.count(b))"
   ]
  },
  {
   "cell_type": "markdown",
   "metadata": {},
   "source": [
    "##### *ques:11 check if there are k consecutive 1's in a binary no.*"
   ]
  },
  {
   "cell_type": "code",
   "execution_count": 7,
   "metadata": {},
   "outputs": [
    {
     "name": "stdout",
     "output_type": "stream",
     "text": [
      "enter the binary no.1000111100011111\n",
      "enter consecutive 1's:4\n",
      "true\n"
     ]
    }
   ],
   "source": [
    "def func(n,k):\n",
    "    a=\"1\"*k\n",
    "    if a in n:\n",
    "        print(\"true\")\n",
    "    else:\n",
    "        print(\"false\")\n",
    "n=str(input(\"enter the binary no.\"))\n",
    "k=int(input(\"enter consecutive 1's:\"))\n",
    "(func(n, k))"
   ]
  },
  {
   "cell_type": "markdown",
   "metadata": {},
   "source": [
    "##### *ques:12 reverse a string* \n"
   ]
  },
  {
   "cell_type": "code",
   "execution_count": 4,
   "metadata": {},
   "outputs": [
    {
     "name": "stdout",
     "output_type": "stream",
     "text": [
      "enter the string:Coding Blocks\n",
      "the reversed string is: skcolB gnidoC\n"
     ]
    }
   ],
   "source": [
    "a=input(\"enter the string:\")\n",
    "b=a[::-1]\n",
    "print(\"the reversed string is:\",b)"
   ]
  },
  {
   "cell_type": "markdown",
   "metadata": {},
   "source": [
    "##### *ques:14 wap which accepts 2 strings s1 and s2 and checks if s2 is a substring of s2* "
   ]
  },
  {
   "cell_type": "code",
   "execution_count": 5,
   "metadata": {},
   "outputs": [
    {
     "name": "stdout",
     "output_type": "stream",
     "text": [
      "enter a string:i am learning python\n",
      "enter a substring:python\n",
      "yes!there is a substring\n"
     ]
    }
   ],
   "source": [
    "def substring(c,d):\n",
    "    if d in c:\n",
    "        print(\"yes!there is a substring\")\n",
    "    else:\n",
    "        print(\"no!there is no substring\")\n",
    "a=input(\"enter a string:\")\n",
    "b=input(\"enter a substring:\")\n",
    "substring(a,b)"
   ]
  },
  {
   "cell_type": "code",
   "execution_count": null,
   "metadata": {},
   "outputs": [],
   "source": []
  },
  {
   "cell_type": "code",
   "execution_count": null,
   "metadata": {},
   "outputs": [],
   "source": []
  },
  {
   "cell_type": "code",
   "execution_count": null,
   "metadata": {},
   "outputs": [],
   "source": []
  }
 ],
 "metadata": {
  "kernelspec": {
   "display_name": "Python 3",
   "language": "python",
   "name": "python3"
  },
  "language_info": {
   "codemirror_mode": {
    "name": "ipython",
    "version": 3
   },
   "file_extension": ".py",
   "mimetype": "text/x-python",
   "name": "python",
   "nbconvert_exporter": "python",
   "pygments_lexer": "ipython3",
   "version": "3.7.3"
  }
 },
 "nbformat": 4,
 "nbformat_minor": 2
}
